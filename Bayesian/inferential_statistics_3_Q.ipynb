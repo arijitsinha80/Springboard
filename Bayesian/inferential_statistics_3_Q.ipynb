{
  "nbformat": 4,
  "nbformat_minor": 0,
  "metadata": {
    "kernelspec": {
      "display_name": "Python 3",
      "language": "python",
      "name": "python3"
    },
    "language_info": {
      "codemirror_mode": {
        "name": "ipython",
        "version": 3
      },
      "file_extension": ".py",
      "mimetype": "text/x-python",
      "name": "python",
      "nbconvert_exporter": "python",
      "pygments_lexer": "ipython3",
      "version": "3.6.10"
    },
    "colab": {
      "name": "inferential_statistics_3-Q.ipynb",
      "provenance": [],
      "collapsed_sections": [],
      "toc_visible": true
    }
  },
  "cells": [
    {
      "cell_type": "markdown",
      "metadata": {
        "id": "fFRaVSj2Z_ch",
        "colab_type": "text"
      },
      "source": [
        "# Inferential Statistics III - Bayesian"
      ]
    },
    {
      "cell_type": "markdown",
      "metadata": {
        "id": "yEbieYIZZ_cl",
        "colab_type": "text"
      },
      "source": [
        "## Introduction"
      ]
    },
    {
      "cell_type": "markdown",
      "metadata": {
        "id": "pk1E0nEYZ_cn",
        "colab_type": "text"
      },
      "source": [
        "In the last two subunits, you've encountered two schools for performing inference from samples. The Frequentist school calls upon a body of theory established over the past couple of centuries or so. Under certain assumptions and conditions, this allows us to calculate what we would expect to see if an experiment were to be repeated again and again and again. The expected value of the average of a sample is one such statistic we can calculate a result for, even if the originating distribution is far from normal. The bootstrap school, on the other hand, literally does (virtually) run that experiment again and again and again and empirically observes the multitude of outcomes. It then empirically calculates a statistic of interest. While this can be for exactly the same statistics that frequentism calculates (e.g. the mean of a sample) this empirical approach can also perform inference on statistics that do not have well known sampling distributions. Because of the requirement to repeat many, many redraws (with replacement) from the sample, this approach only became feasible with modern computing power.\n",
        "\n",
        "And thus we come to the Bayesian school of inference. Here we frame our probabilities not so much in terms of \"how many times would I expect this event to occur if the experiment were to be rerun many times\" but rather in terms of \"what is my belief in the likelihood of this event occurring?\" In a Bayesian probabilistic programming context, we can build models for systems and then let the data tell us how likely certain values for our model parameters are. This can be a very useful way to incorporate prior knowledge and deal with limited data. It can just be more than a _little_ fiddly to produce a good model!"
      ]
    },
    {
      "cell_type": "markdown",
      "metadata": {
        "id": "Q07iJcaLZ_cp",
        "colab_type": "text"
      },
      "source": [
        "## Medical charge data set"
      ]
    },
    {
      "cell_type": "markdown",
      "metadata": {
        "id": "A-Uwpn3GZ_cs",
        "colab_type": "text"
      },
      "source": [
        "For the final mini-project of the stats unit, you'll once again return tot he medical charge data you've used for the other mini-projects. Previously, we considered whether we believed that the actual average(non-insured) charge had fallen below a certain threshold.\n",
        "\n",
        "The hospital is now reviewing its financial resiliency plan, which requires a model for revenue under a range of conditions that include the number of patients treated. Its current model is based on a confidence interval for the mean, and scaling that by different numbers of patients for each scenario. This approach has a number of limitations, most acutely the breakdown of the central limit theorem for low patient volumes; the current model does not do a good job of reflecting the variability in revenue you would see as the number of cases drops. A bootstrap approach would return samples of the same size as the original. Taking subsamples would restrict the sampling to the values already present in the original sample and would not do a good job of representing the actual variability you might see. What is needed is a better model of individual charges.\n",
        "\n",
        "So the problem here is that we want to model the distribution of individual charges and _we also really want to be able to capture our uncertainty about that distribution_ so we can better capture the range of values we might see. This naturally leads us to a powerful, probabilistic approach — we'll use the pymc3 library to perform Bayesian inference."
      ]
    },
    {
      "cell_type": "markdown",
      "metadata": {
        "id": "wpylvD-rZ_ct",
        "colab_type": "text"
      },
      "source": [
        "### Loading the data and performing an initial view"
      ]
    },
    {
      "cell_type": "code",
      "metadata": {
        "id": "zOJ6UWlHZ_cw",
        "colab_type": "code",
        "colab": {}
      },
      "source": [
        "import pymc3 as pm\n",
        "import pandas as pd\n",
        "import numpy as np\n",
        "from numpy.random import seed\n",
        "import matplotlib.pyplot as plt\n",
        "from scipy.stats import gamma\n",
        "# there has been some incompatibilty between theano and numpy, if you encounter\n",
        "# an error with the latest packages from anaconda, then the included\n",
        "# package-list-txt should allow you to create a conda environment with compatible\n",
        "# packages."
      ],
      "execution_count": 0,
      "outputs": []
    },
    {
      "cell_type": "code",
      "metadata": {
        "id": "cm5t2PwqZ_c9",
        "colab_type": "code",
        "colab": {}
      },
      "source": [
        "medical = pd.read_csv('/content/insurance2.csv')"
      ],
      "execution_count": 0,
      "outputs": []
    },
    {
      "cell_type": "code",
      "metadata": {
        "id": "K2-AM1izZ_dJ",
        "colab_type": "code",
        "outputId": "3d040026-d4b5-44b8-f3cb-a587d885b06d",
        "colab": {
          "base_uri": "https://localhost:8080/",
          "height": 204
        }
      },
      "source": [
        "medical.head()"
      ],
      "execution_count": 4,
      "outputs": [
        {
          "output_type": "execute_result",
          "data": {
            "text/html": [
              "<div>\n",
              "<style scoped>\n",
              "    .dataframe tbody tr th:only-of-type {\n",
              "        vertical-align: middle;\n",
              "    }\n",
              "\n",
              "    .dataframe tbody tr th {\n",
              "        vertical-align: top;\n",
              "    }\n",
              "\n",
              "    .dataframe thead th {\n",
              "        text-align: right;\n",
              "    }\n",
              "</style>\n",
              "<table border=\"1\" class=\"dataframe\">\n",
              "  <thead>\n",
              "    <tr style=\"text-align: right;\">\n",
              "      <th></th>\n",
              "      <th>age</th>\n",
              "      <th>sex</th>\n",
              "      <th>bmi</th>\n",
              "      <th>children</th>\n",
              "      <th>smoker</th>\n",
              "      <th>region</th>\n",
              "      <th>charges</th>\n",
              "      <th>insuranceclaim</th>\n",
              "    </tr>\n",
              "  </thead>\n",
              "  <tbody>\n",
              "    <tr>\n",
              "      <th>0</th>\n",
              "      <td>19</td>\n",
              "      <td>0</td>\n",
              "      <td>27.900</td>\n",
              "      <td>0</td>\n",
              "      <td>1</td>\n",
              "      <td>3</td>\n",
              "      <td>16884.92400</td>\n",
              "      <td>1</td>\n",
              "    </tr>\n",
              "    <tr>\n",
              "      <th>1</th>\n",
              "      <td>18</td>\n",
              "      <td>1</td>\n",
              "      <td>33.770</td>\n",
              "      <td>1</td>\n",
              "      <td>0</td>\n",
              "      <td>2</td>\n",
              "      <td>1725.55230</td>\n",
              "      <td>1</td>\n",
              "    </tr>\n",
              "    <tr>\n",
              "      <th>2</th>\n",
              "      <td>28</td>\n",
              "      <td>1</td>\n",
              "      <td>33.000</td>\n",
              "      <td>3</td>\n",
              "      <td>0</td>\n",
              "      <td>2</td>\n",
              "      <td>4449.46200</td>\n",
              "      <td>0</td>\n",
              "    </tr>\n",
              "    <tr>\n",
              "      <th>3</th>\n",
              "      <td>33</td>\n",
              "      <td>1</td>\n",
              "      <td>22.705</td>\n",
              "      <td>0</td>\n",
              "      <td>0</td>\n",
              "      <td>1</td>\n",
              "      <td>21984.47061</td>\n",
              "      <td>0</td>\n",
              "    </tr>\n",
              "    <tr>\n",
              "      <th>4</th>\n",
              "      <td>32</td>\n",
              "      <td>1</td>\n",
              "      <td>28.880</td>\n",
              "      <td>0</td>\n",
              "      <td>0</td>\n",
              "      <td>1</td>\n",
              "      <td>3866.85520</td>\n",
              "      <td>1</td>\n",
              "    </tr>\n",
              "  </tbody>\n",
              "</table>\n",
              "</div>"
            ],
            "text/plain": [
              "   age  sex     bmi  children  smoker  region      charges  insuranceclaim\n",
              "0   19    0  27.900         0       1       3  16884.92400               1\n",
              "1   18    1  33.770         1       0       2   1725.55230               1\n",
              "2   28    1  33.000         3       0       2   4449.46200               0\n",
              "3   33    1  22.705         0       0       1  21984.47061               0\n",
              "4   32    1  28.880         0       0       1   3866.85520               1"
            ]
          },
          "metadata": {
            "tags": []
          },
          "execution_count": 4
        }
      ]
    },
    {
      "cell_type": "code",
      "metadata": {
        "id": "f1oD_90DZ_dQ",
        "colab_type": "code",
        "colab": {}
      },
      "source": [
        "insurance = medical.charges[medical.insuranceclaim == 1]\n",
        "no_insurance = medical.charges[medical.insuranceclaim == 0]\n",
        "n_ins = len(insurance)\n",
        "n_no_ins = len(no_insurance)"
      ],
      "execution_count": 0,
      "outputs": []
    },
    {
      "cell_type": "code",
      "metadata": {
        "id": "oSup_Lv4Z_dm",
        "colab_type": "code",
        "outputId": "4d13d0c5-8997-491e-e83a-6fce0f7b5a52",
        "colab": {
          "base_uri": "https://localhost:8080/",
          "height": 279
        }
      },
      "source": [
        "_ = plt.hist(insurance, bins=30, alpha=0.5, label='insurance claim')\n",
        "_ = plt.hist(no_insurance, bins=30, alpha=0.5, label='not insurance claim')\n",
        "_ = plt.xlabel('Charge amount')\n",
        "_ = plt.ylabel('Frequency')\n",
        "_ = plt.legend()"
      ],
      "execution_count": 6,
      "outputs": [
        {
          "output_type": "display_data",
          "data": {
            "image/png": "[encoded data removed]",
            "text/plain": [
              "<Figure size 432x288 with 1 Axes>"
            ]
          },
          "metadata": {
            "tags": [],
            "needs_background": "light"
          }
        }
      ]
    },
    {
      "cell_type": "markdown",
      "metadata": {
        "id": "yRTyIBcfZ_dx",
        "colab_type": "text"
      },
      "source": [
        "We may suspect from the above that there is some sort of exponential-like distribution at play here. The charges that were not insurance claims seem most like this. The insurance claim charges may possibly be multimodal. The gamma distribution may be applicable and we could test this for the distribution of charges that weren't insurance claims first. Developing our new method for the easiest looking case first is a common and sound approach that can demonstrate a minimum viable solution/product and get, or keep, stakeholders on board."
      ]
    },
    {
      "cell_type": "markdown",
      "metadata": {
        "id": "OAi5iP45Z_dy",
        "colab_type": "text"
      },
      "source": [
        "### Initial parameter estimation"
      ]
    },
    {
      "cell_type": "markdown",
      "metadata": {
        "id": "5SA5PmLCZ_d0",
        "colab_type": "text"
      },
      "source": [
        "An initial guess for the gamma distribution's $\\alpha$ and $\\beta$ parameters can be made as described [here](https://wiki.analytica.com/index.php?title=Gamma_distribution)."
      ]
    },
    {
      "cell_type": "code",
      "metadata": {
        "id": "j0wCJSTNZ_d2",
        "colab_type": "code",
        "outputId": "d0663885-cd4d-4815-8d74-6dd96f67bc79",
        "colab": {
          "base_uri": "https://localhost:8080/",
          "height": 34
        }
      },
      "source": [
        "alpha_est = np.mean(no_insurance)**2 / np.var(no_insurance)\n",
        "beta_est = np.var(no_insurance) / np.mean(no_insurance)\n",
        "alpha_est, beta_est"
      ],
      "execution_count": 7,
      "outputs": [
        {
          "output_type": "execute_result",
          "data": {
            "text/plain": [
              "(1.8759059725250857, 4702.486170152821)"
            ]
          },
          "metadata": {
            "tags": []
          },
          "execution_count": 7
        }
      ]
    },
    {
      "cell_type": "markdown",
      "metadata": {
        "id": "f2VJr98UZ_d_",
        "colab_type": "text"
      },
      "source": [
        "### Initial simulation"
      ]
    },
    {
      "cell_type": "markdown",
      "metadata": {
        "id": "eoJAj4msZ_eA",
        "colab_type": "text"
      },
      "source": [
        "Let's draw the same number of random variates from this distribution and compare to our observed data."
      ]
    },
    {
      "cell_type": "code",
      "metadata": {
        "id": "ckWzCQn5Z_eB",
        "colab_type": "code",
        "colab": {}
      },
      "source": [
        "seed(47)\n",
        "no_ins_model_rvs = gamma(alpha_est, scale=beta_est).rvs(n_no_ins)"
      ],
      "execution_count": 0,
      "outputs": []
    },
    {
      "cell_type": "code",
      "metadata": {
        "id": "Q-4ZJzXLZ_eH",
        "colab_type": "code",
        "outputId": "691a04ef-4095-4af1-ae14-0d31e5e96407",
        "colab": {
          "base_uri": "https://localhost:8080/",
          "height": 279
        }
      },
      "source": [
        "_ = plt.hist(no_ins_model_rvs, bins=30, alpha=0.5, label='simulated')\n",
        "_ = plt.hist(no_insurance, bins=30, alpha=0.5, label='observed')\n",
        "_ = plt.xlabel('Charge amount')\n",
        "_ = plt.ylabel('Frequency')\n",
        "_ = plt.legend()"
      ],
      "execution_count": 9,
      "outputs": [
        {
          "output_type": "display_data",
          "data": {
            "image/png": "[encoded data removed]",
            "text/plain": [
              "<Figure size 432x288 with 1 Axes>"
            ]
          },
          "metadata": {
            "tags": [],
            "needs_background": "light"
          }
        }
      ]
    },
    {
      "cell_type": "markdown",
      "metadata": {
        "id": "gBcVaPKOZ_eQ",
        "colab_type": "text"
      },
      "source": [
        "Well it doesn't look too bad! We're not a million miles off. But can we do better? We have a plausible form for the distribution of charge amounts and potential values for that distribution's parameters so we can already draw random variates from that distribution to perform simulations. But we don't know if we have a _best_ estimate for the population parameters, and we also only have a single estimate each for $\\alpha$ and $\\beta$; we aren't capturing our uncertainty in their values. Can we take a Bayesian inference approach to estimate the parameters?"
      ]
    },
    {
      "cell_type": "markdown",
      "metadata": {
        "id": "FKAkdxIyZ_eS",
        "colab_type": "text"
      },
      "source": [
        "### Creating a PyMC3 model"
      ]
    },
    {
      "cell_type": "code",
      "metadata": {
        "id": "dgIDCTBCZ_eX",
        "colab_type": "code",
        "outputId": "79cc5e21-85f6-4952-b384-f72c280b37ae",
        "colab": {
          "base_uri": "https://localhost:8080/",
          "height": 34
        }
      },
      "source": [
        "# PyMC3 Gamma seems to use rate = 1/beta\n",
        "rate_est = 1/beta_est\n",
        "# Initial parameter estimates we'll use below\n",
        "alpha_est, rate_est"
      ],
      "execution_count": 10,
      "outputs": [
        {
          "output_type": "execute_result",
          "data": {
            "text/plain": [
              "(1.8759059725250857, 0.00021265346963636093)"
            ]
          },
          "metadata": {
            "tags": []
          },
          "execution_count": 10
        }
      ]
    },
    {
      "cell_type": "markdown",
      "metadata": {
        "id": "ytpRp1dIZ_ej",
        "colab_type": "text"
      },
      "source": [
        "__Q:__ You are now going to create your own PyMC3 model!\n",
        "1. Use an [exponential](https://docs.pymc.io/api/distributions/continuous.html#pymc3.distributions.continuous.Exponential) prior for alpha. Call this stochastic variable `alpha_`.\n",
        "2. Similarly, use an exponential prior for the rate ([$1/\\beta$](https://wiki.analytica.com/index.php?title=Gamma_distribution)) parameter in PyMC3's [Gamma](https://docs.pymc.io/api/distributions/continuous.html#pymc3.distributions.continuous.Gamma). Call this stochastic variable `rate_` (but it will be supplied as `pm.Gamma`'s `beta` parameter). Hint: to set up a prior with an exponential distribution for $x$ where you have an initial estimate for $x$ of $x_0$, use a scale parameter of $1/x_0$.\n",
        "5. Create your Gamma distribution with your `alpha_` and `rate_` stochastic variables and the observed data.\n",
        "6. Perform 10000 draws."
      ]
    },
    {
      "cell_type": "markdown",
      "metadata": {
        "id": "8DYyFnJwZ_ek",
        "colab_type": "text"
      },
      "source": [
        "Hint: you may find it helpful to work backwards. Start with your `pm.Gamma`, and note the required stochastic variables `alpha` and `beta`. Then, before that, you need to create those stochastic variables using `pm.Exponential` and the correct parameters."
      ]
    },
    {
      "cell_type": "markdown",
      "metadata": {
        "id": "LdvscQUfZ_el",
        "colab_type": "text"
      },
      "source": [
        "__A:__"
      ]
    },
    {
      "cell_type": "code",
      "metadata": {
        "id": "WubanOWvSbDb",
        "colab_type": "code",
        "colab": {
          "base_uri": "https://localhost:8080/",
          "height": 119
        },
        "outputId": "b7ebd260-ff68-4aa0-fe2d-c18dda8a569f"
      },
      "source": [
        "with pm.Model() as no_ins_model:\n",
        "    alpha_ = pm.Exponential(\"alpha\", 1/alpha_est)   \n",
        "    rate_ = pm.Exponential(\"rate\", 1/rate_est)\n",
        "    \n",
        "    # Using MAP to improve convergence \n",
        "    # --> NVM, threw a warning at me \n",
        "#     start = pm.find_MAP()\n",
        "#     step = pm.Metropolis()\n",
        "    \n",
        "    # Question: Is it 1/alpha_est, 1/rate_est because of the Hint from above? \n",
        "    # Hint: to set up a prior with an exponential distribution for  𝑥  where you have an initial estimate for  𝑥  of  𝑥0 , use a scale parameter of  1/𝑥0 .\n",
        "    \n",
        "    # class pymc3.distributions.continuous.Gamma(alpha=None, beta=None, mu=None, sigma=None, sd=None, *args, **kwargs)¶\n",
        "    no_insurance_dist = pm.Gamma(\"no_insurance\", alpha=alpha_, beta=rate_, observed=no_insurance)\n",
        "    trace = pm.sample(10000)"
      ],
      "execution_count": 20,
      "outputs": [
        {
          "output_type": "stream",
          "text": [
            "Auto-assigning NUTS sampler...\n",
            "Initializing NUTS using jitter+adapt_diag...\n",
            "Sequential sampling (2 chains in 1 job)\n",
            "NUTS: [rate, alpha]\n",
            "100%|██████████| 10500/10500 [00:10<00:00, 976.60it/s]\n",
            "100%|██████████| 10500/10500 [00:10<00:00, 968.31it/s]\n"
          ],
          "name": "stderr"
        }
      ]
    },
    {
      "cell_type": "code",
      "metadata": {
        "id": "Nhaykas9Z_em",
        "colab_type": "code",
        "outputId": "f0f17205-0bf4-411d-9989-573d10dc3808",
        "colab": {
          "base_uri": "https://localhost:8080/",
          "height": 136
        }
      },
      "source": [
        "with pm.Model() as model:\n",
        "    \n",
        "    alpha_ = pm.Exponential('alpha', alpha_est)\n",
        "    rate_ = pm.Exponential('rate',rate_est)\n",
        "    \n",
        "    #y_obs = pm.Gamma('y_obs', alpha=alpha_, beta=1/rate_, observed=no_insurance)\n",
        "    no_insurance_dist = pm.Gamma(\"no_insurance\", alpha=alpha_, beta=1/rate_, observed=no_insurance)\n",
        "    trace = pm.sample(draws=10000,tune=1000)"
      ],
      "execution_count": 19,
      "outputs": [
        {
          "output_type": "stream",
          "text": [
            "Auto-assigning NUTS sampler...\n",
            "Initializing NUTS using jitter+adapt_diag...\n",
            "Sequential sampling (2 chains in 1 job)\n",
            "NUTS: [rate, alpha]\n",
            "100%|██████████| 11000/11000 [00:11<00:00, 959.44it/s] \n",
            "100%|██████████| 11000/11000 [00:11<00:00, 943.81it/s]\n",
            "The number of effective samples is smaller than 25% for some parameters.\n"
          ],
          "name": "stderr"
        }
      ]
    },
    {
      "cell_type": "markdown",
      "metadata": {
        "id": "hHbq-lfvZ_eu",
        "colab_type": "text"
      },
      "source": [
        "If you get a warning about acceptance probability not matching the target, and that it's around 0.88 when it should be close to 0.8, don't worry. We encourage you to read up on this and see if you can adjust the parameters and/or arguments to pm.sample, but if your model runs without any additional warnings or errors then you should be doing great!"
      ]
    },
    {
      "cell_type": "markdown",
      "metadata": {
        "id": "C-OQyiJZZ_ev",
        "colab_type": "text"
      },
      "source": [
        "__Q:__ Explore your posteriors for $\\alpha$ and $\\beta$ (from the trace).\n",
        "* Calculate the 95% credible interval for $\\alpha$ and $\\beta$.\n",
        "* Plot your posterior values of $\\alpha$ and $\\beta$ (both line plots and histograms). \n",
        "* Mark your CIs on the histograms.\n",
        "* Do they look okay? What would bad plots look like?"
      ]
    },
    {
      "cell_type": "markdown",
      "metadata": {
        "id": "rtCh6QmVZ_ew",
        "colab_type": "text"
      },
      "source": [
        "__A:__"
      ]
    },
    {
      "cell_type": "code",
      "metadata": {
        "id": "CQEe-ktqZ_ex",
        "colab_type": "code",
        "colab": {}
      },
      "source": [
        "# Extract traces of alpha and beta after 'burning' initial traces\n",
        "burned_trace = trace[5000:]   # burning initial 50% traces\n",
        "\n",
        "# [] must be equal to the `name` variable\n",
        "alpha_samples = burned_trace['alpha']\n",
        "rate_samples = burned_trace['rate']\n",
        "\n",
        "# From Cell (13) Above \n",
        "beta_samples = 1/rate_samples"
      ],
      "execution_count": 0,
      "outputs": []
    },
    {
      "cell_type": "code",
      "metadata": {
        "id": "kgdfPTuSZ_e2",
        "colab_type": "code",
        "colab": {
          "base_uri": "https://localhost:8080/",
          "height": 51
        },
        "outputId": "6376c2fb-9e33-43d6-e589-92eae85078b7"
      },
      "source": [
        "# 95% Credible Interval\n",
        "alpha_ci95 = np.percentile(alpha_samples,[2.5, 97.5])\n",
        "beta_ci95 = np.percentile(beta_samples, [2.5, 97.5])\n",
        "\n",
        "print(\"95% Credible interval for alpha is {}\".format(alpha_ci95))\n",
        "print(\"95% Credible interval for beta (1/rate) is {}\".format(beta_ci95))"
      ],
      "execution_count": 22,
      "outputs": [
        {
          "output_type": "stream",
          "text": [
            "95% Credible interval for alpha is [1.984671   2.48172325]\n",
            "95% Credible interval for beta (1/rate) is [3517.07326091 4518.08387694]\n"
          ],
          "name": "stdout"
        }
      ]
    },
    {
      "cell_type": "code",
      "metadata": {
        "id": "2U8NQiwJZ_e6",
        "colab_type": "code",
        "colab": {
          "base_uri": "https://localhost:8080/",
          "height": 441
        },
        "outputId": "ab976683-be6f-4db5-81f0-de5e9f21e055"
      },
      "source": [
        "# Plot your posterior values of  𝛼  and  𝛽  (both line plots and histograms).\n",
        "# and Marking CIs\n",
        "\n",
        "# Histograms\n",
        "\n",
        "plt.figure(figsize=(10,6))\n",
        "ax = plt.subplot(211)\n",
        "_ = plt.hist(alpha_samples, density=True, bins=50)\n",
        "_ = plt.title(\"Distribution of Posterior $\\\\alpha$ values\")\n",
        "_ = plt.xlabel('$\\\\alpha$')\n",
        "_ = plt.ylabel('frequency')\n",
        "_ = plt.axvline(alpha_ci95[0], ls=':', lw=3, color='red')\n",
        "_ = plt.axvline(alpha_ci95[1], ls=':', lw=3, color='red')\n",
        "\n",
        "ax = plt.subplot(212)\n",
        "_ = plt.hist(beta_samples, density=True, bins=50, color='C5', alpha=0.3)\n",
        "_ = plt.title('Distribution of Posterior $\\\\beta$ values')\n",
        "_ = plt.xlabel('$\\\\beta$')\n",
        "_ = plt.ylabel('frequency')\n",
        "_ = plt.axvline(beta_ci95[0], ls=':', lw=3, color='red')\n",
        "_ = plt.axvline(beta_ci95[1], ls=':', lw=3, color='red')\n",
        "\n",
        "plt.tight_layout()\n",
        "plt.show()"
      ],
      "execution_count": 23,
      "outputs": [
        {
          "output_type": "display_data",
          "data": {
            "image/png": "[encoded data removed]",
            "text/plain": [
              "<Figure size 720x432 with 2 Axes>"
            ]
          },
          "metadata": {
            "tags": [],
            "needs_background": "light"
          }
        }
      ]
    },
    {
      "cell_type": "code",
      "metadata": {
        "id": "uOp-1unoZ_gG",
        "colab_type": "code",
        "colab": {
          "base_uri": "https://localhost:8080/",
          "height": 441
        },
        "outputId": "87c82685-bec1-4c1a-ee14-8da4f929d3e2"
      },
      "source": [
        "# Lineplots\n",
        "plt.figure(figsize=(10,6))\n",
        "ax = plt.subplot(211)\n",
        "_ = plt.plot(alpha_samples)\n",
        "_ = plt.title(\"Distribution of Posterior $\\\\alpha$ values\")\n",
        "_ = plt.ylabel('$\\\\alpha$')\n",
        "_ = plt.xlabel('steps')\n",
        "\n",
        "ax = plt.subplot(212)\n",
        "_ = plt.plot(beta_samples, color='C5', alpha=0.3)\n",
        "_ = plt.title('Distribution of Posterior $\\\\beta$ values')\n",
        "_ = plt.ylabel('$\\\\beta$')\n",
        "_ = plt.xlabel('steps')\n",
        "\n",
        "\n",
        "plt.tight_layout()\n",
        "plt.show()"
      ],
      "execution_count": 24,
      "outputs": [
        {
          "output_type": "display_data",
          "data": {
            "image/png": "[encoded data removed]",
            "text/plain": [
              "<Figure size 720x432 with 2 Axes>"
            ]
          },
          "metadata": {
            "tags": [],
            "needs_background": "light"
          }
        }
      ]
    },
    {
      "cell_type": "code",
      "metadata": {
        "id": "EleYRqKUZ_gS",
        "colab_type": "code",
        "colab": {}
      },
      "source": [
        ""
      ],
      "execution_count": 0,
      "outputs": []
    },
    {
      "cell_type": "markdown",
      "metadata": {
        "id": "XXgRk6YJZ_gX",
        "colab_type": "text"
      },
      "source": [
        ""
      ]
    },
    {
      "cell_type": "markdown",
      "metadata": {
        "id": "tio5kwvrZ_gZ",
        "colab_type": "text"
      },
      "source": [
        "__Q:__ Play around with some of the built-in diagnostic plots for your model. We suggest at least checking out the traceplot for alpha and beta. How do they look?"
      ]
    },
    {
      "cell_type": "markdown",
      "metadata": {
        "id": "CWfTOUYfZ_ga",
        "colab_type": "text"
      },
      "source": [
        "__A:__"
      ]
    },
    {
      "cell_type": "code",
      "metadata": {
        "id": "TUMsLb8FZ_gc",
        "colab_type": "code",
        "colab": {
          "base_uri": "https://localhost:8080/",
          "height": 803
        },
        "outputId": "f8e00696-9d75-4615-a861-d0beaa709d11"
      },
      "source": [
        "!pip install arviz\n",
        "# Traceplots of alpha and rate \n",
        "pm.plots.traceplot(burned_trace)\n",
        "plt.show()"
      ],
      "execution_count": 40,
      "outputs": [
        {
          "output_type": "stream",
          "text": [
            "Requirement already satisfied: arviz in /usr/local/lib/python3.6/dist-packages (0.7.0)\n",
            "Requirement already satisfied: packaging in /usr/local/lib/python3.6/dist-packages (from arviz) (20.3)\n",
            "Requirement already satisfied: scipy>=0.19 in /usr/local/lib/python3.6/dist-packages (from arviz) (1.4.1)\n",
            "Requirement already satisfied: netcdf4 in /usr/local/lib/python3.6/dist-packages (from arviz) (1.5.3)\n",
            "Requirement already satisfied: matplotlib>=3.0 in /usr/local/lib/python3.6/dist-packages (from arviz) (3.2.1)\n",
            "Requirement already satisfied: pandas>=0.23 in /usr/local/lib/python3.6/dist-packages (from arviz) (1.0.3)\n",
            "Requirement already satisfied: xarray>=0.11 in /usr/local/lib/python3.6/dist-packages (from arviz) (0.15.1)\n",
            "Requirement already satisfied: numpy>=1.12 in /usr/local/lib/python3.6/dist-packages (from arviz) (1.18.2)\n",
            "Requirement already satisfied: pyparsing>=2.0.2 in /usr/local/lib/python3.6/dist-packages (from packaging->arviz) (2.4.7)\n",
            "Requirement already satisfied: six in /usr/local/lib/python3.6/dist-packages (from packaging->arviz) (1.12.0)\n",
            "Requirement already satisfied: cftime in /usr/local/lib/python3.6/dist-packages (from netcdf4->arviz) (1.1.2)\n",
            "Requirement already satisfied: kiwisolver>=1.0.1 in /usr/local/lib/python3.6/dist-packages (from matplotlib>=3.0->arviz) (1.2.0)\n",
            "Requirement already satisfied: python-dateutil>=2.1 in /usr/local/lib/python3.6/dist-packages (from matplotlib>=3.0->arviz) (2.8.1)\n",
            "Requirement already satisfied: cycler>=0.10 in /usr/local/lib/python3.6/dist-packages (from matplotlib>=3.0->arviz) (0.10.0)\n",
            "Requirement already satisfied: pytz>=2017.2 in /usr/local/lib/python3.6/dist-packages (from pandas>=0.23->arviz) (2018.9)\n",
            "Requirement already satisfied: setuptools>=41.2 in /usr/local/lib/python3.6/dist-packages (from xarray>=0.11->arviz) (46.1.3)\n"
          ],
          "name": "stdout"
        },
        {
          "output_type": "error",
          "ename": "ImportError",
          "evalue": "ignored",
          "traceback": [
            "\u001b[0;31m---------------------------------------------------------------------------\u001b[0m",
            "\u001b[0;31mImportError\u001b[0m                               Traceback (most recent call last)",
            "\u001b[0;32m<ipython-input-40-4d534a92aaea>\u001b[0m in \u001b[0;36m<module>\u001b[0;34m()\u001b[0m\n\u001b[1;32m      1\u001b[0m \u001b[0mget_ipython\u001b[0m\u001b[0;34m(\u001b[0m\u001b[0;34m)\u001b[0m\u001b[0;34m.\u001b[0m\u001b[0msystem\u001b[0m\u001b[0;34m(\u001b[0m\u001b[0;34m'pip install arviz'\u001b[0m\u001b[0;34m)\u001b[0m\u001b[0;34m\u001b[0m\u001b[0;34m\u001b[0m\u001b[0m\n\u001b[1;32m      2\u001b[0m \u001b[0;31m# Traceplots of alpha and rate\u001b[0m\u001b[0;34m\u001b[0m\u001b[0;34m\u001b[0m\u001b[0;34m\u001b[0m\u001b[0m\n\u001b[0;32m----> 3\u001b[0;31m \u001b[0mpm\u001b[0m\u001b[0;34m.\u001b[0m\u001b[0mplots\u001b[0m\u001b[0;34m.\u001b[0m\u001b[0mtraceplot\u001b[0m\u001b[0;34m(\u001b[0m\u001b[0mburned_trace\u001b[0m\u001b[0;34m)\u001b[0m\u001b[0;34m\u001b[0m\u001b[0;34m\u001b[0m\u001b[0m\n\u001b[0m\u001b[1;32m      4\u001b[0m \u001b[0mplt\u001b[0m\u001b[0;34m.\u001b[0m\u001b[0mshow\u001b[0m\u001b[0;34m(\u001b[0m\u001b[0;34m)\u001b[0m\u001b[0;34m\u001b[0m\u001b[0;34m\u001b[0m\u001b[0m\n",
            "\u001b[0;32m/usr/local/lib/python3.6/dist-packages/pymc3/plots/__init__.py\u001b[0m in \u001b[0;36mwrapped\u001b[0;34m(*args, **kwargs)\u001b[0m\n\u001b[1;32m     40\u001b[0m                 \u001b[0mwarnings\u001b[0m\u001b[0;34m.\u001b[0m\u001b[0mwarn\u001b[0m\u001b[0;34m(\u001b[0m\u001b[0;34m'Keyword argument `{old}` renamed to `{new}`, and will be removed in pymc3 3.8'\u001b[0m\u001b[0;34m.\u001b[0m\u001b[0mformat\u001b[0m\u001b[0;34m(\u001b[0m\u001b[0mold\u001b[0m\u001b[0;34m=\u001b[0m\u001b[0mold\u001b[0m\u001b[0;34m,\u001b[0m \u001b[0mnew\u001b[0m\u001b[0;34m=\u001b[0m\u001b[0mnew\u001b[0m\u001b[0;34m)\u001b[0m\u001b[0;34m)\u001b[0m\u001b[0;34m\u001b[0m\u001b[0;34m\u001b[0m\u001b[0m\n\u001b[1;32m     41\u001b[0m                 \u001b[0mkwargs\u001b[0m\u001b[0;34m[\u001b[0m\u001b[0mnew\u001b[0m\u001b[0;34m]\u001b[0m \u001b[0;34m=\u001b[0m \u001b[0mkwargs\u001b[0m\u001b[0;34m.\u001b[0m\u001b[0mpop\u001b[0m\u001b[0;34m(\u001b[0m\u001b[0mold\u001b[0m\u001b[0;34m)\u001b[0m\u001b[0;34m\u001b[0m\u001b[0;34m\u001b[0m\u001b[0m\n\u001b[0;32m---> 42\u001b[0;31m             \u001b[0;32mreturn\u001b[0m \u001b[0mfunc\u001b[0m\u001b[0;34m(\u001b[0m\u001b[0;34m*\u001b[0m\u001b[0margs\u001b[0m\u001b[0;34m,\u001b[0m \u001b[0;34m**\u001b[0m\u001b[0mkwargs\u001b[0m\u001b[0;34m)\u001b[0m\u001b[0;34m\u001b[0m\u001b[0;34m\u001b[0m\u001b[0m\n\u001b[0m\u001b[1;32m     43\u001b[0m     \u001b[0;32mreturn\u001b[0m \u001b[0mwrapped\u001b[0m\u001b[0;34m\u001b[0m\u001b[0;34m\u001b[0m\u001b[0m\n\u001b[1;32m     44\u001b[0m \u001b[0;34m\u001b[0m\u001b[0m\n",
            "\u001b[0;32m/usr/local/lib/python3.6/dist-packages/pymc3/plots/__init__.py\u001b[0m in \u001b[0;36m__call__\u001b[0;34m(self, *args, **kwargs)\u001b[0m\n\u001b[1;32m     20\u001b[0m         \u001b[0;32mdef\u001b[0m \u001b[0m__call__\u001b[0m\u001b[0;34m(\u001b[0m\u001b[0mself\u001b[0m\u001b[0;34m,\u001b[0m \u001b[0;34m*\u001b[0m\u001b[0margs\u001b[0m\u001b[0;34m,\u001b[0m \u001b[0;34m**\u001b[0m\u001b[0mkwargs\u001b[0m\u001b[0;34m)\u001b[0m\u001b[0;34m:\u001b[0m\u001b[0;34m\u001b[0m\u001b[0;34m\u001b[0m\u001b[0m\n\u001b[1;32m     21\u001b[0m             raise ImportError(\n\u001b[0;32m---> 22\u001b[0;31m                 \u001b[0;34m\"ArviZ is not installed. In order to use `{0.attr}`:\\npip install arviz\"\u001b[0m\u001b[0;34m.\u001b[0m\u001b[0mformat\u001b[0m\u001b[0;34m(\u001b[0m\u001b[0mself\u001b[0m\u001b[0;34m)\u001b[0m\u001b[0;34m\u001b[0m\u001b[0;34m\u001b[0m\u001b[0m\n\u001b[0m\u001b[1;32m     23\u001b[0m             )\n\u001b[1;32m     24\u001b[0m \u001b[0;34m\u001b[0m\u001b[0m\n",
            "\u001b[0;31mImportError\u001b[0m: ArviZ is not installed. In order to use `plot_trace`:\npip install arviz",
            "",
            "\u001b[0;31m---------------------------------------------------------------------------\u001b[0;32m\nNOTE: If your import is failing due to a missing package, you can\nmanually install dependencies using either !pip or !apt.\n\nTo view examples of installing some common dependencies, click the\n\"Open Examples\" button below.\n\u001b[0;31m---------------------------------------------------------------------------\u001b[0m\n"
          ]
        }
      ]
    },
    {
      "cell_type": "markdown",
      "metadata": {
        "id": "crbExpLTZ_gk",
        "colab_type": "text"
      },
      "source": [
        ""
      ]
    },
    {
      "cell_type": "code",
      "metadata": {
        "id": "5AidGGzhZ_gl",
        "colab_type": "code",
        "colab": {
          "base_uri": "https://localhost:8080/",
          "height": 514
        },
        "outputId": "9abd6148-88de-4265-ff0c-1be8e7b845a7"
      },
      "source": [
        "pm.plots.plot_posterior(data=burned_trace)\n",
        "pm.plots.plot_posterior(data=burned_trace, kind='hist')\n",
        "plt.show()"
      ],
      "execution_count": 34,
      "outputs": [
        {
          "output_type": "error",
          "ename": "ImportError",
          "evalue": "ignored",
          "traceback": [
            "\u001b[0;31m---------------------------------------------------------------------------\u001b[0m",
            "\u001b[0;31mImportError\u001b[0m                               Traceback (most recent call last)",
            "\u001b[0;32m<ipython-input-34-3a8f42491313>\u001b[0m in \u001b[0;36m<module>\u001b[0;34m()\u001b[0m\n\u001b[0;32m----> 1\u001b[0;31m \u001b[0mpm\u001b[0m\u001b[0;34m.\u001b[0m\u001b[0mplots\u001b[0m\u001b[0;34m.\u001b[0m\u001b[0mplot_posterior\u001b[0m\u001b[0;34m(\u001b[0m\u001b[0mdata\u001b[0m\u001b[0;34m=\u001b[0m\u001b[0mburned_trace\u001b[0m\u001b[0;34m)\u001b[0m\u001b[0;34m\u001b[0m\u001b[0;34m\u001b[0m\u001b[0m\n\u001b[0m\u001b[1;32m      2\u001b[0m \u001b[0mpm\u001b[0m\u001b[0;34m.\u001b[0m\u001b[0mplots\u001b[0m\u001b[0;34m.\u001b[0m\u001b[0mplot_posterior\u001b[0m\u001b[0;34m(\u001b[0m\u001b[0mdata\u001b[0m\u001b[0;34m=\u001b[0m\u001b[0mburned_trace\u001b[0m\u001b[0;34m,\u001b[0m \u001b[0mkind\u001b[0m\u001b[0;34m=\u001b[0m\u001b[0;34m'hist'\u001b[0m\u001b[0;34m)\u001b[0m\u001b[0;34m\u001b[0m\u001b[0;34m\u001b[0m\u001b[0m\n\u001b[1;32m      3\u001b[0m \u001b[0mplt\u001b[0m\u001b[0;34m.\u001b[0m\u001b[0mshow\u001b[0m\u001b[0;34m(\u001b[0m\u001b[0;34m)\u001b[0m\u001b[0;34m\u001b[0m\u001b[0;34m\u001b[0m\u001b[0m\n",
            "\u001b[0;32m/usr/local/lib/python3.6/dist-packages/pymc3/plots/__init__.py\u001b[0m in \u001b[0;36mwrapped\u001b[0;34m(*args, **kwargs)\u001b[0m\n\u001b[1;32m     40\u001b[0m                 \u001b[0mwarnings\u001b[0m\u001b[0;34m.\u001b[0m\u001b[0mwarn\u001b[0m\u001b[0;34m(\u001b[0m\u001b[0;34m'Keyword argument `{old}` renamed to `{new}`, and will be removed in pymc3 3.8'\u001b[0m\u001b[0;34m.\u001b[0m\u001b[0mformat\u001b[0m\u001b[0;34m(\u001b[0m\u001b[0mold\u001b[0m\u001b[0;34m=\u001b[0m\u001b[0mold\u001b[0m\u001b[0;34m,\u001b[0m \u001b[0mnew\u001b[0m\u001b[0;34m=\u001b[0m\u001b[0mnew\u001b[0m\u001b[0;34m)\u001b[0m\u001b[0;34m)\u001b[0m\u001b[0;34m\u001b[0m\u001b[0;34m\u001b[0m\u001b[0m\n\u001b[1;32m     41\u001b[0m                 \u001b[0mkwargs\u001b[0m\u001b[0;34m[\u001b[0m\u001b[0mnew\u001b[0m\u001b[0;34m]\u001b[0m \u001b[0;34m=\u001b[0m \u001b[0mkwargs\u001b[0m\u001b[0;34m.\u001b[0m\u001b[0mpop\u001b[0m\u001b[0;34m(\u001b[0m\u001b[0mold\u001b[0m\u001b[0;34m)\u001b[0m\u001b[0;34m\u001b[0m\u001b[0;34m\u001b[0m\u001b[0m\n\u001b[0;32m---> 42\u001b[0;31m             \u001b[0;32mreturn\u001b[0m \u001b[0mfunc\u001b[0m\u001b[0;34m(\u001b[0m\u001b[0;34m*\u001b[0m\u001b[0margs\u001b[0m\u001b[0;34m,\u001b[0m \u001b[0;34m**\u001b[0m\u001b[0mkwargs\u001b[0m\u001b[0;34m)\u001b[0m\u001b[0;34m\u001b[0m\u001b[0;34m\u001b[0m\u001b[0m\n\u001b[0m\u001b[1;32m     43\u001b[0m     \u001b[0;32mreturn\u001b[0m \u001b[0mwrapped\u001b[0m\u001b[0;34m\u001b[0m\u001b[0;34m\u001b[0m\u001b[0m\n\u001b[1;32m     44\u001b[0m \u001b[0;34m\u001b[0m\u001b[0m\n",
            "\u001b[0;32m/usr/local/lib/python3.6/dist-packages/pymc3/plots/__init__.py\u001b[0m in \u001b[0;36m__call__\u001b[0;34m(self, *args, **kwargs)\u001b[0m\n\u001b[1;32m     20\u001b[0m         \u001b[0;32mdef\u001b[0m \u001b[0m__call__\u001b[0m\u001b[0;34m(\u001b[0m\u001b[0mself\u001b[0m\u001b[0;34m,\u001b[0m \u001b[0;34m*\u001b[0m\u001b[0margs\u001b[0m\u001b[0;34m,\u001b[0m \u001b[0;34m**\u001b[0m\u001b[0mkwargs\u001b[0m\u001b[0;34m)\u001b[0m\u001b[0;34m:\u001b[0m\u001b[0;34m\u001b[0m\u001b[0;34m\u001b[0m\u001b[0m\n\u001b[1;32m     21\u001b[0m             raise ImportError(\n\u001b[0;32m---> 22\u001b[0;31m                 \u001b[0;34m\"ArviZ is not installed. In order to use `{0.attr}`:\\npip install arviz\"\u001b[0m\u001b[0;34m.\u001b[0m\u001b[0mformat\u001b[0m\u001b[0;34m(\u001b[0m\u001b[0mself\u001b[0m\u001b[0;34m)\u001b[0m\u001b[0;34m\u001b[0m\u001b[0;34m\u001b[0m\u001b[0m\n\u001b[0m\u001b[1;32m     23\u001b[0m             )\n\u001b[1;32m     24\u001b[0m \u001b[0;34m\u001b[0m\u001b[0m\n",
            "\u001b[0;31mImportError\u001b[0m: ArviZ is not installed. In order to use `plot_posterior`:\npip install arviz",
            "",
            "\u001b[0;31m---------------------------------------------------------------------------\u001b[0;32m\nNOTE: If your import is failing due to a missing package, you can\nmanually install dependencies using either !pip or !apt.\n\nTo view examples of installing some common dependencies, click the\n\"Open Examples\" button below.\n\u001b[0;31m---------------------------------------------------------------------------\u001b[0m\n"
          ]
        }
      ]
    },
    {
      "cell_type": "code",
      "metadata": {
        "id": "xG4OKGrPVYxC",
        "colab_type": "code",
        "colab": {
          "base_uri": "https://localhost:8080/",
          "height": 548
        },
        "outputId": "2344faef-d31c-45fa-e041-079e11e8ae4a"
      },
      "source": [
        "# Plotting autocorrelation\n",
        "pm.plots.autocorrplot(alpha_samples)\n",
        "plt.title('Autocorrelation of alpha_samples')\n",
        "pm.plots.autocorrplot(beta_samples)\n",
        "plt.title('Autocorrelation of beta_samples')\n",
        "pm.plots.autocorrplot(rate_samples)\n",
        "plt.title('Autocorrelation of rate')\n",
        "plt.show()"
      ],
      "execution_count": 35,
      "outputs": [
        {
          "output_type": "error",
          "ename": "ImportError",
          "evalue": "ignored",
          "traceback": [
            "\u001b[0;31m---------------------------------------------------------------------------\u001b[0m",
            "\u001b[0;31mImportError\u001b[0m                               Traceback (most recent call last)",
            "\u001b[0;32m<ipython-input-35-f1f8b5fd0fac>\u001b[0m in \u001b[0;36m<module>\u001b[0;34m()\u001b[0m\n\u001b[0;32m----> 1\u001b[0;31m \u001b[0mpm\u001b[0m\u001b[0;34m.\u001b[0m\u001b[0mplots\u001b[0m\u001b[0;34m.\u001b[0m\u001b[0mautocorrplot\u001b[0m\u001b[0;34m(\u001b[0m\u001b[0malpha_samples\u001b[0m\u001b[0;34m)\u001b[0m\u001b[0;34m\u001b[0m\u001b[0;34m\u001b[0m\u001b[0m\n\u001b[0m\u001b[1;32m      2\u001b[0m \u001b[0mplt\u001b[0m\u001b[0;34m.\u001b[0m\u001b[0mtitle\u001b[0m\u001b[0;34m(\u001b[0m\u001b[0;34m'Autocorrelation of alpha_samples'\u001b[0m\u001b[0;34m)\u001b[0m\u001b[0;34m\u001b[0m\u001b[0;34m\u001b[0m\u001b[0m\n\u001b[1;32m      3\u001b[0m \u001b[0mpm\u001b[0m\u001b[0;34m.\u001b[0m\u001b[0mplots\u001b[0m\u001b[0;34m.\u001b[0m\u001b[0mautocorrplot\u001b[0m\u001b[0;34m(\u001b[0m\u001b[0mbeta_samples\u001b[0m\u001b[0;34m)\u001b[0m\u001b[0;34m\u001b[0m\u001b[0;34m\u001b[0m\u001b[0m\n\u001b[1;32m      4\u001b[0m \u001b[0mplt\u001b[0m\u001b[0;34m.\u001b[0m\u001b[0mtitle\u001b[0m\u001b[0;34m(\u001b[0m\u001b[0;34m'Autocorrelation of beta_samples'\u001b[0m\u001b[0;34m)\u001b[0m\u001b[0;34m\u001b[0m\u001b[0;34m\u001b[0m\u001b[0m\n\u001b[1;32m      5\u001b[0m \u001b[0mpm\u001b[0m\u001b[0;34m.\u001b[0m\u001b[0mplots\u001b[0m\u001b[0;34m.\u001b[0m\u001b[0mautocorrplot\u001b[0m\u001b[0;34m(\u001b[0m\u001b[0mrate_samples\u001b[0m\u001b[0;34m)\u001b[0m\u001b[0;34m\u001b[0m\u001b[0;34m\u001b[0m\u001b[0m\n",
            "\u001b[0;32m/usr/local/lib/python3.6/dist-packages/pymc3/plots/__init__.py\u001b[0m in \u001b[0;36mwrapped\u001b[0;34m(*args, **kwargs)\u001b[0m\n\u001b[1;32m     40\u001b[0m                 \u001b[0mwarnings\u001b[0m\u001b[0;34m.\u001b[0m\u001b[0mwarn\u001b[0m\u001b[0;34m(\u001b[0m\u001b[0;34m'Keyword argument `{old}` renamed to `{new}`, and will be removed in pymc3 3.8'\u001b[0m\u001b[0;34m.\u001b[0m\u001b[0mformat\u001b[0m\u001b[0;34m(\u001b[0m\u001b[0mold\u001b[0m\u001b[0;34m=\u001b[0m\u001b[0mold\u001b[0m\u001b[0;34m,\u001b[0m \u001b[0mnew\u001b[0m\u001b[0;34m=\u001b[0m\u001b[0mnew\u001b[0m\u001b[0;34m)\u001b[0m\u001b[0;34m)\u001b[0m\u001b[0;34m\u001b[0m\u001b[0;34m\u001b[0m\u001b[0m\n\u001b[1;32m     41\u001b[0m                 \u001b[0mkwargs\u001b[0m\u001b[0;34m[\u001b[0m\u001b[0mnew\u001b[0m\u001b[0;34m]\u001b[0m \u001b[0;34m=\u001b[0m \u001b[0mkwargs\u001b[0m\u001b[0;34m.\u001b[0m\u001b[0mpop\u001b[0m\u001b[0;34m(\u001b[0m\u001b[0mold\u001b[0m\u001b[0;34m)\u001b[0m\u001b[0;34m\u001b[0m\u001b[0;34m\u001b[0m\u001b[0m\n\u001b[0;32m---> 42\u001b[0;31m             \u001b[0;32mreturn\u001b[0m \u001b[0mfunc\u001b[0m\u001b[0;34m(\u001b[0m\u001b[0;34m*\u001b[0m\u001b[0margs\u001b[0m\u001b[0;34m,\u001b[0m \u001b[0;34m**\u001b[0m\u001b[0mkwargs\u001b[0m\u001b[0;34m)\u001b[0m\u001b[0;34m\u001b[0m\u001b[0;34m\u001b[0m\u001b[0m\n\u001b[0m\u001b[1;32m     43\u001b[0m     \u001b[0;32mreturn\u001b[0m \u001b[0mwrapped\u001b[0m\u001b[0;34m\u001b[0m\u001b[0;34m\u001b[0m\u001b[0m\n\u001b[1;32m     44\u001b[0m \u001b[0;34m\u001b[0m\u001b[0m\n",
            "\u001b[0;32m/usr/local/lib/python3.6/dist-packages/pymc3/plots/__init__.py\u001b[0m in \u001b[0;36m__call__\u001b[0;34m(self, *args, **kwargs)\u001b[0m\n\u001b[1;32m     20\u001b[0m         \u001b[0;32mdef\u001b[0m \u001b[0m__call__\u001b[0m\u001b[0;34m(\u001b[0m\u001b[0mself\u001b[0m\u001b[0;34m,\u001b[0m \u001b[0;34m*\u001b[0m\u001b[0margs\u001b[0m\u001b[0;34m,\u001b[0m \u001b[0;34m**\u001b[0m\u001b[0mkwargs\u001b[0m\u001b[0;34m)\u001b[0m\u001b[0;34m:\u001b[0m\u001b[0;34m\u001b[0m\u001b[0;34m\u001b[0m\u001b[0m\n\u001b[1;32m     21\u001b[0m             raise ImportError(\n\u001b[0;32m---> 22\u001b[0;31m                 \u001b[0;34m\"ArviZ is not installed. In order to use `{0.attr}`:\\npip install arviz\"\u001b[0m\u001b[0;34m.\u001b[0m\u001b[0mformat\u001b[0m\u001b[0;34m(\u001b[0m\u001b[0mself\u001b[0m\u001b[0;34m)\u001b[0m\u001b[0;34m\u001b[0m\u001b[0;34m\u001b[0m\u001b[0m\n\u001b[0m\u001b[1;32m     23\u001b[0m             )\n\u001b[1;32m     24\u001b[0m \u001b[0;34m\u001b[0m\u001b[0m\n",
            "\u001b[0;31mImportError\u001b[0m: ArviZ is not installed. In order to use `plot_autocorr`:\npip install arviz",
            "",
            "\u001b[0;31m---------------------------------------------------------------------------\u001b[0;32m\nNOTE: If your import is failing due to a missing package, you can\nmanually install dependencies using either !pip or !apt.\n\nTo view examples of installing some common dependencies, click the\n\"Open Examples\" button below.\n\u001b[0;31m---------------------------------------------------------------------------\u001b[0m\n"
          ]
        }
      ]
    },
    {
      "cell_type": "markdown",
      "metadata": {
        "id": "cLwm9PW_Z_gq",
        "colab_type": "text"
      },
      "source": [
        "__Q:__ Take your best shot at a new simulated sequence of medical charges using scipy.stat's gamma distribution. Don't forget the difference between functions that take $\\beta$ and functions that use $1/\\beta$ for the scale parameter. Simulate a data set the same size as the number of observations in the data and overlay the two histograms (simulated and observed)."
      ]
    },
    {
      "cell_type": "markdown",
      "metadata": {
        "id": "NOtp8jzeZ_gs",
        "colab_type": "text"
      },
      "source": [
        "__A:__"
      ]
    },
    {
      "cell_type": "code",
      "metadata": {
        "id": "xLj1trCaZ_gs",
        "colab_type": "code",
        "colab": {
          "base_uri": "https://localhost:8080/",
          "height": 1000
        },
        "outputId": "dd66ceef-c339-49dc-be2f-91c48781b9cd"
      },
      "source": [
        "gamma(alpha_est, scale=beta_est).rvs(n_no_ins)"
      ],
      "execution_count": 36,
      "outputs": [
        {
          "output_type": "execute_result",
          "data": {
            "text/plain": [
              "array([10397.94275589,  1041.95946026,  6463.02980734,   376.57452984,\n",
              "       16443.01733193, 12534.26862586,  4887.52822091, 21987.74742357,\n",
              "        2391.86458131, 14838.78504707, 16367.41550012,  8933.72174061,\n",
              "        6576.10220003, 16282.36777553,  7452.34174681,  1106.80822312,\n",
              "        1755.29978115, 21155.33271511, 10364.6251372 ,  9182.02835466,\n",
              "       19688.32927225, 14197.03748955,  3947.29647883,  6139.05243726,\n",
              "        5838.33104203,  2694.20049307, 19320.64961189, 14429.99960104,\n",
              "        8133.35811409,  1116.55596082,  1772.69507456,  3965.98199389,\n",
              "        6092.7867618 , 30592.26138658, 18690.29408479, 14559.24945658,\n",
              "        5776.76611201,  9092.36741945, 11734.19992675,  8743.96441586,\n",
              "       12984.8793155 , 11908.50650562, 16739.90159631, 11654.65406056,\n",
              "       12259.56780525,  4752.18685717,  2368.41260522, 10380.0952094 ,\n",
              "        5443.89915111,  3663.70974505,  1900.54169901,  5169.09401053,\n",
              "       11099.39984801, 16085.44986384,  2335.97762702,  1672.94746297,\n",
              "        2082.63510752,  8199.65754047, 11437.78404859, 22669.29817494,\n",
              "        2203.38481213,  7056.27945405,  8127.86735405, 19361.72974636,\n",
              "        9416.62987304,  6148.56030529,  1121.22834164,  9179.29780777,\n",
              "        3962.133834  , 12753.41418004,  4096.38883392, 16709.18665701,\n",
              "       11708.48469685, 23352.93534222,  2647.16104116, 10858.1203128 ,\n",
              "        3559.76751974,  7577.50910837,  5839.8762285 , 15201.09648818,\n",
              "        5833.91270746,  9146.92911776, 14013.68959123,  7381.87331811,\n",
              "        3642.94536657,  3526.39284627, 13109.72237407, 14088.27630025,\n",
              "        6898.87107287,  4699.14006568,  3020.04871076,   512.13027529,\n",
              "       14037.71098701,  5476.51959922,  6645.55930828,  9935.02357919,\n",
              "       12558.36026053,  9452.41622419,  1504.16654245,  9739.52358794,\n",
              "         774.39377521,  4148.01407701,  8513.31798932, 16141.09042747,\n",
              "       13934.19237759, 16341.15442567, 12689.67547317, 13165.36815411,\n",
              "       21229.55606256,  2336.27688591, 11251.63637948,  2086.38614308,\n",
              "        8462.30502369,  7575.58246035,  8010.59744123, 23036.03590369,\n",
              "       13169.94821944, 34247.17966794, 21360.99144545,  2426.88297276,\n",
              "         683.60117331, 10495.05927452, 35341.18148054,  2312.37870107,\n",
              "       11305.06628341, 12831.09544329, 11578.89715314, 14937.8777445 ,\n",
              "       15028.14593501,  6456.53287488, 20862.95969102,  7626.91138425,\n",
              "        8545.16501846,  7050.2703497 , 11399.52606023,  7080.10823595,\n",
              "        7155.02057335,  2047.62853354,  7801.0920477 , 23969.68169236,\n",
              "        2065.88928645,  6322.63160023, 17120.69017179,  7198.71213854,\n",
              "        5916.5405603 ,  6101.45122993, 38606.11852386, 10630.11608576,\n",
              "        6444.42147561, 14935.82689537,  1691.01359205, 25804.3107998 ,\n",
              "        4791.93997282,  8661.65539713,  5051.58504488,  7350.98386745,\n",
              "        2569.54963927,  2720.38914501,  3660.93338816, 26993.25890459,\n",
              "       15399.49602111, 13891.57814501,  5722.51231571,  5648.40725684,\n",
              "       18391.27210837,  1701.49836324,  3666.08857652,  3444.33472993,\n",
              "       10748.18913939,  5304.45599955,  4375.6484112 ,  7293.78265741,\n",
              "       10067.11494386, 21953.66204182,  7024.22302693,   980.42361357,\n",
              "       11030.43131243, 10879.29748277,  8458.71290617, 14815.29356753,\n",
              "        7022.69869597,  7116.30928607,  5149.5035256 ,  1723.44805577,\n",
              "        4297.27253199,  2256.2166726 ,  9714.54005714,  8633.64384821,\n",
              "       11947.37710981, 10198.89960667,  1514.68299902,  6762.7238946 ,\n",
              "        5530.51583841,  5816.54464984,  7679.9027411 ,  2134.81965313,\n",
              "       20232.48780977,  3452.54842027, 22959.6711719 ,  6529.48390016,\n",
              "       11659.07823333,  5910.61815284,  6270.74444926,  8319.0783349 ,\n",
              "       11252.07493436, 15144.23155146,  2170.65104668,  9831.2477029 ,\n",
              "        2009.95526491, 11634.1843567 ,  8332.87059189, 29936.07825451,\n",
              "       16031.53114986,  9092.35177999, 14451.45344783,  4980.99237786,\n",
              "        2194.20378255,  3184.03900525,  5124.21844673,  5769.72660296,\n",
              "       15900.2538327 ,  7801.67831024,  5234.05411783, 15925.50092228,\n",
              "        3733.9794359 ,  2771.6216737 , 10756.08536682,  5115.20606066,\n",
              "       25487.44431684,  3360.26698021,  5859.017808  ,  2572.49148646,\n",
              "        1132.80377876,  7866.60793258, 11936.41762933,  8693.77346496,\n",
              "       24879.95241252, 12030.50965093, 22168.09573991, 12314.04044322,\n",
              "        3908.32811538,  6555.1201685 ,  4798.01594426,  7868.00123064,\n",
              "       15606.02673889, 10453.03413521,  7234.81911705,  5982.92634191,\n",
              "        2156.57811399,  9535.04670321,  3998.88180722, 13860.01591201,\n",
              "        5460.51772786,  6170.82156558,  9151.7509615 ,  5978.96840825,\n",
              "        8038.08256216,  3724.72769841, 18767.20873576,  5638.09636319,\n",
              "        5714.70615511,  4271.19893361,  4469.44568703, 17083.48156672,\n",
              "        3809.81697493,  3004.49500131, 24052.03409637,  3170.09293258,\n",
              "        7301.83346481, 11256.15875976, 24640.08690072,  7770.73571916,\n",
              "        8142.15526213,   654.78324631,  7916.07707722, 20026.37910593,\n",
              "        1102.81086786,  9478.48425968, 14717.61500245, 10512.14638948,\n",
              "       19331.98984469, 12847.56577678, 12366.94176122,  6389.52459648,\n",
              "        9312.96216559, 10354.0011309 , 13683.67710865,  4044.21585866,\n",
              "        7409.17102193, 11075.22372632,  8066.04749453, 21591.2455279 ,\n",
              "        9584.31402314,  4211.39554588, 15030.74726235,  3287.75062648,\n",
              "       30765.07360367, 16041.57219494,  3516.64398731, 23175.20454293,\n",
              "       14498.90339898,  4363.0911498 ,  5190.18918141,   996.37739358,\n",
              "        7770.7487978 ,  4164.3462932 ,  1413.20140472,  2993.6906012 ,\n",
              "        3072.64596623,  4847.21778477, 11135.59923378,  5928.47738897,\n",
              "       20519.18054121,  7064.02596801,  2029.44997154,  7638.04151689,\n",
              "       36892.03414967,  3679.87120105,  8394.85345746,  7118.53195961,\n",
              "       10573.19529748, 23774.78340422,  8627.50213544, 10646.82319422,\n",
              "       23073.06604624, 13031.06004861,  9726.65846014,  2615.07093058,\n",
              "        4042.98549301,  7046.05099993,  3899.07785119,   588.80432889,\n",
              "        2407.22523817,  3835.34985695,  9817.72661505,  9038.67520901,\n",
              "       11946.11607731, 10818.27463589,  2934.88445725,  4096.44405548,\n",
              "        4380.73741887,  7424.96278317,  4568.00583267,  3340.20748773,\n",
              "        2439.65598848,  5867.78116315, 12051.21856004, 18601.01890358,\n",
              "       12282.41918582, 12589.98749116, 18003.95527694, 13168.05858871,\n",
              "        9744.80253916,  8540.13416576,  7282.91643087, 11510.40117032,\n",
              "        9078.56967774, 11980.37519151,  4542.54622478,  2486.76510673,\n",
              "        5950.93879155, 15152.06036792, 21399.81936989,  5046.77656852,\n",
              "        2731.3385956 ,  1403.41904151,  4344.61004568, 10556.6694107 ,\n",
              "        2318.5953264 ,   942.67842611, 21363.91885518,  8307.79272321,\n",
              "       29792.03883595,  6291.54703768,  2638.59778851,   745.64678744,\n",
              "        9406.59591886,  5990.64170201,  6006.59470172,  4923.95278506,\n",
              "        8329.83528078, 19248.64325913, 20279.14438186, 10693.10414367,\n",
              "        5219.00340277, 10531.37586824,  4312.67936784,  3021.62776726,\n",
              "       18141.67120076,  7945.47985267,  9036.62221132,  1903.25211691,\n",
              "        3645.03712084,  3007.65784828,  3098.79221424, 11238.54767848,\n",
              "        6593.35138326, 11479.18012112,  5309.32534236,  2854.56079173,\n",
              "        3187.73966272,  8152.43057633, 11878.68194286,  4824.87110623,\n",
              "        4547.20557257,  3307.26010781, 17821.23650467,  2680.00719741,\n",
              "       25394.7318295 ,  8026.53964974,  9407.10348512,  1281.86503861,\n",
              "        9264.96794589, 15702.93612184, 10267.5780658 , 12279.41384212,\n",
              "       10231.24103823,  9487.15984809,  1606.24162601, 10335.36052097,\n",
              "        9732.90720772,  7614.16709027,  4280.81521299,  2891.45028647,\n",
              "        8710.97293958, 11763.33440914,  7448.93567976, 23192.88004191,\n",
              "       17233.99062065,  3504.46904647, 12598.57421865,  2038.86836593,\n",
              "        9475.32803674,  5629.92857945,  9491.63541996,  8373.05923629,\n",
              "        4559.68255831,  5123.80164232,  5213.49456868, 11556.34524926,\n",
              "        3830.58498938,  9367.33435484,  4483.65836359, 10010.91559825,\n",
              "        5129.12167298,  6499.23053987,  5059.35072855, 14756.61011736,\n",
              "        4791.25029233,  3285.15764001,  6874.53322834, 16771.32280836,\n",
              "        3256.37144079,  4173.40813606,  5965.2958494 , 17981.37422545,\n",
              "        8114.25586466,  1060.92101968,  6464.12654974,  4479.83313649,\n",
              "        3741.1356072 , 14839.39132696,  3281.73974286, 18007.06352593,\n",
              "       18469.01882568,  3476.20523145, 16324.52675923,  4799.60425011,\n",
              "        1721.16603589,  7410.64276767,  7167.45950188, 22332.37731995,\n",
              "        4140.80517928,  2888.54903796,  3694.1747245 , 13967.63097149,\n",
              "        4275.10156777,  1896.07238929, 18527.5720311 ,  5033.28235472,\n",
              "        4879.45904992,  4632.60473443,  1417.6326234 ,  3889.42358683,\n",
              "       13435.93290764,  6524.08624277,  3422.09758673,  5550.09107903,\n",
              "        9819.19322388, 11232.06471057, 14269.43459775,  3394.31194973,\n",
              "       16412.06238417, 30138.75725462,  5985.6020458 ,  7083.55052292,\n",
              "        5615.79783412,  9754.93415956,  5815.99841459, 13735.63643136,\n",
              "         838.40765494, 10705.74724671, 22273.3927526 , 11545.44461694,\n",
              "       16201.96600032,  6821.43316305,  1527.6370435 , 20464.11933758,\n",
              "       12807.97661352,  3956.23751189,  1685.53090298,  4234.92321193,\n",
              "        2227.73003099,  3003.19814122,  6622.06806636,  4597.15444918,\n",
              "        8380.44002627,  6764.5870567 ,  2728.10953824,  8679.46674287,\n",
              "       12449.31314422,  7199.07609252,  5651.50272845, 19564.10984996,\n",
              "       21215.75717444,  1614.39188061, 10111.46987623,  7784.32253968,\n",
              "        4488.22841976, 25274.27282445, 14497.92744083, 10243.13589944,\n",
              "       10171.54207366,  7560.4479808 ,  4950.55805018, 17993.38980917,\n",
              "        6808.3523357 ,  3347.0257586 , 11125.74731765,  5281.64574526,\n",
              "        5484.71175384, 17259.35003615,  7286.67899691, 21239.76351801,\n",
              "       18654.73056986,  8680.91348714,  8742.35620337, 14699.07007422,\n",
              "        5490.89873038,  2145.18634334,  6477.16170935,  2921.19334547,\n",
              "        3832.64594193, 10005.83699674,  2040.48719808])"
            ]
          },
          "metadata": {
            "tags": []
          },
          "execution_count": 36
        }
      ]
    },
    {
      "cell_type": "code",
      "metadata": {
        "scrolled": true,
        "id": "plTggYRXZ_gw",
        "colab_type": "code",
        "colab": {}
      },
      "source": [
        "# Gamma Distribution\n",
        "seed(47)\n",
        "best_shot_simulated = gamma(np.mean(alpha_samples), scale=np.mean(beta_samples)).rvs(n_no_ins)"
      ],
      "execution_count": 0,
      "outputs": []
    },
    {
      "cell_type": "code",
      "metadata": {
        "id": "TrrtUnMOVl15",
        "colab_type": "code",
        "colab": {
          "base_uri": "https://localhost:8080/",
          "height": 279
        },
        "outputId": "b16c1b7e-f0a7-4bdf-ca0c-ae08152eb541"
      },
      "source": [
        "_ = plt.hist(best_shot_simulated, bins=30, alpha=0.5, label='MCMC_simulated')\n",
        "_ = plt.hist(no_ins_model_rvs, bins=30, alpha=0.5, label='first_simulated')\n",
        "_ = plt.hist(no_insurance, bins=30, alpha=0.5, label='observed')\n",
        "_ = plt.xlabel('Charge amount')\n",
        "_ = plt.ylabel('Frequency')\n",
        "_ = plt.legend()\n",
        "\n",
        "# # Compare the below histogram with the first gamma simulation we did above\n",
        "# # (no_ins_model_rvs)\n",
        "# # Right now all three histograms overlaid together"
      ],
      "execution_count": 38,
      "outputs": [
        {
          "output_type": "display_data",
          "data": {
            "image/png": "[encoded data removed]",
            "text/plain": [
              "<Figure size 432x288 with 1 Axes>"
            ]
          },
          "metadata": {
            "tags": [],
            "needs_background": "light"
          }
        }
      ]
    },
    {
      "cell_type": "markdown",
      "metadata": {
        "id": "Zo2KVOR8V0hh",
        "colab_type": "text"
      },
      "source": [
        "Conclusion: Haven't done any cross-validation tests, but just by eyeballing it, looks like the MCMC simulation simulates the observed data more closely compared to the first simulation."
      ]
    },
    {
      "cell_type": "markdown",
      "metadata": {
        "id": "0zEZa3kUZ_g1",
        "colab_type": "text"
      },
      "source": [
        "## Summary"
      ]
    },
    {
      "cell_type": "markdown",
      "metadata": {
        "id": "xYFsnzeJZ_g2",
        "colab_type": "text"
      },
      "source": [
        "In this exercise, we have postulated a distribution to describe the individual charge amounts for non-insured cases. This distribution has two required parameters, which we do not know, but we used PyMC3 to perform Bayesian inference to find our level of \"belief\" in a range of values for them. We then used the average parameter values to create one simulated data set of the same size as the original, but the distribution of our posteriors for these parameters will allow us to perform simulations of any sample size we desire and for a range of scenarios of different $\\alpha$ and $\\beta$. This could be a powerful tool to model different financial conditions for the hospital. \n",
        "\n",
        "Well done making it through this tricky subject. Starting think Bayesian _and_ starting to get to grips with something like PyMC3 is no easy task. As a data scientist, the most important thing is to be aware that this statistical approach exists, though you may not actually use this approach as much as you use the other approaches you've learned about. Still, we encourage you to think of ways that this approach could apply to the work that you do in this course and throughout your career.  "
      ]
    }
  ]
}