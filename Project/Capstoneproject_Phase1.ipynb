{
 "cells": [
  {
   "cell_type": "markdown",
   "metadata": {},
   "source": [
    "# Capstone Project 1 - Applicance Energy Prediction"
   ]
  },
  {
   "cell_type": "code",
   "execution_count": 135,
   "metadata": {},
   "outputs": [],
   "source": [
    "# Import the libraries -\n",
    "\n",
    "import numpy as np\n",
    "import pandas as pd\n",
    "import matplotlib.pyplot as plt\n",
    "import seaborn as sns\n",
    "import sklearn\n",
    "%matplotlib inline\n",
    "from datetime import datetime as dt\n",
    "# Seed value for reproducing the code\n",
    "seed = 79\n",
    "np.random.seed(seed)"
   ]
  },
  {
   "cell_type": "markdown",
   "metadata": {},
   "source": [
    "# Load the Dataset for Energy data"
   ]
  },
  {
   "cell_type": "code",
   "execution_count": 136,
   "metadata": {},
   "outputs": [],
   "source": [
    "df = pd.read_csv('energydata_complete.csv')"
   ]
  },
  {
   "cell_type": "code",
   "execution_count": 150,
   "metadata": {},
   "outputs": [
    {
     "data": {
      "text/html": [
       "<div>\n",
       "<style scoped>\n",
       "    .dataframe tbody tr th:only-of-type {\n",
       "        vertical-align: middle;\n",
       "    }\n",
       "\n",
       "    .dataframe tbody tr th {\n",
       "        vertical-align: top;\n",
       "    }\n",
       "\n",
       "    .dataframe thead th {\n",
       "        text-align: right;\n",
       "    }\n",
       "</style>\n",
       "<table border=\"1\" class=\"dataframe\">\n",
       "  <thead>\n",
       "    <tr style=\"text-align: right;\">\n",
       "      <th></th>\n",
       "      <th>date</th>\n",
       "      <th>Appliances</th>\n",
       "      <th>lights</th>\n",
       "      <th>T1</th>\n",
       "      <th>RH_1</th>\n",
       "      <th>T2</th>\n",
       "      <th>RH_2</th>\n",
       "      <th>T3</th>\n",
       "      <th>RH_3</th>\n",
       "      <th>T4</th>\n",
       "      <th>...</th>\n",
       "      <th>T9</th>\n",
       "      <th>RH_9</th>\n",
       "      <th>T_out</th>\n",
       "      <th>Press_mm_hg</th>\n",
       "      <th>RH_out</th>\n",
       "      <th>Windspeed</th>\n",
       "      <th>Visibility</th>\n",
       "      <th>Tdewpoint</th>\n",
       "      <th>rv1</th>\n",
       "      <th>rv2</th>\n",
       "    </tr>\n",
       "  </thead>\n",
       "  <tbody>\n",
       "    <tr>\n",
       "      <th>0</th>\n",
       "      <td>2016-01-11 17:00:00</td>\n",
       "      <td>60</td>\n",
       "      <td>30</td>\n",
       "      <td>19.89</td>\n",
       "      <td>47.596667</td>\n",
       "      <td>19.2</td>\n",
       "      <td>44.7900</td>\n",
       "      <td>19.79</td>\n",
       "      <td>44.73</td>\n",
       "      <td>19.0</td>\n",
       "      <td>...</td>\n",
       "      <td>17.033333</td>\n",
       "      <td>45.53</td>\n",
       "      <td>6.600000</td>\n",
       "      <td>733.5</td>\n",
       "      <td>92.0</td>\n",
       "      <td>7.000000</td>\n",
       "      <td>63.000000</td>\n",
       "      <td>5.3</td>\n",
       "      <td>13.275433</td>\n",
       "      <td>13.275433</td>\n",
       "    </tr>\n",
       "    <tr>\n",
       "      <th>1</th>\n",
       "      <td>2016-01-11 17:10:00</td>\n",
       "      <td>60</td>\n",
       "      <td>30</td>\n",
       "      <td>19.89</td>\n",
       "      <td>46.693333</td>\n",
       "      <td>19.2</td>\n",
       "      <td>44.7225</td>\n",
       "      <td>19.79</td>\n",
       "      <td>44.79</td>\n",
       "      <td>19.0</td>\n",
       "      <td>...</td>\n",
       "      <td>17.066667</td>\n",
       "      <td>45.56</td>\n",
       "      <td>6.483333</td>\n",
       "      <td>733.6</td>\n",
       "      <td>92.0</td>\n",
       "      <td>6.666667</td>\n",
       "      <td>59.166667</td>\n",
       "      <td>5.2</td>\n",
       "      <td>18.606195</td>\n",
       "      <td>18.606195</td>\n",
       "    </tr>\n",
       "  </tbody>\n",
       "</table>\n",
       "<p>2 rows × 29 columns</p>\n",
       "</div>"
      ],
      "text/plain": [
       "                  date  Appliances  lights     T1       RH_1    T2     RH_2  \\\n",
       "0  2016-01-11 17:00:00          60      30  19.89  47.596667  19.2  44.7900   \n",
       "1  2016-01-11 17:10:00          60      30  19.89  46.693333  19.2  44.7225   \n",
       "\n",
       "      T3   RH_3    T4    ...             T9   RH_9     T_out  Press_mm_hg  \\\n",
       "0  19.79  44.73  19.0    ...      17.033333  45.53  6.600000        733.5   \n",
       "1  19.79  44.79  19.0    ...      17.066667  45.56  6.483333        733.6   \n",
       "\n",
       "   RH_out  Windspeed  Visibility  Tdewpoint        rv1        rv2  \n",
       "0    92.0   7.000000   63.000000        5.3  13.275433  13.275433  \n",
       "1    92.0   6.666667   59.166667        5.2  18.606195  18.606195  \n",
       "\n",
       "[2 rows x 29 columns]"
      ]
     },
     "execution_count": 150,
     "metadata": {},
     "output_type": "execute_result"
    }
   ],
   "source": [
    "df.head(2)"
   ]
  },
  {
   "cell_type": "markdown",
   "metadata": {},
   "source": [
    "# Load the Dataset for Gas price for the period of year"
   ]
  },
  {
   "cell_type": "code",
   "execution_count": 137,
   "metadata": {},
   "outputs": [],
   "source": [
    "dfoil = pd.read_csv('CrudeOilPrice.csv')"
   ]
  },
  {
   "cell_type": "code",
   "execution_count": 151,
   "metadata": {},
   "outputs": [
    {
     "data": {
      "text/html": [
       "<div>\n",
       "<style scoped>\n",
       "    .dataframe tbody tr th:only-of-type {\n",
       "        vertical-align: middle;\n",
       "    }\n",
       "\n",
       "    .dataframe tbody tr th {\n",
       "        vertical-align: top;\n",
       "    }\n",
       "\n",
       "    .dataframe thead th {\n",
       "        text-align: right;\n",
       "    }\n",
       "</style>\n",
       "<table border=\"1\" class=\"dataframe\">\n",
       "  <thead>\n",
       "    <tr style=\"text-align: right;\">\n",
       "      <th></th>\n",
       "      <th>date</th>\n",
       "      <th>value</th>\n",
       "    </tr>\n",
       "  </thead>\n",
       "  <tbody>\n",
       "    <tr>\n",
       "      <th>0</th>\n",
       "      <td>2/3/10</td>\n",
       "      <td>76.98</td>\n",
       "    </tr>\n",
       "    <tr>\n",
       "      <th>1</th>\n",
       "      <td>2/4/10</td>\n",
       "      <td>73.14</td>\n",
       "    </tr>\n",
       "  </tbody>\n",
       "</table>\n",
       "</div>"
      ],
      "text/plain": [
       "     date   value\n",
       "0  2/3/10   76.98\n",
       "1  2/4/10   73.14"
      ]
     },
     "execution_count": 151,
     "metadata": {},
     "output_type": "execute_result"
    }
   ],
   "source": [
    "dfoil.head(2)"
   ]
  },
  {
   "cell_type": "markdown",
   "metadata": {},
   "source": [
    "# Dataset Energy Appliance - Statistics and Details"
   ]
  },
  {
   "cell_type": "code",
   "execution_count": 138,
   "metadata": {},
   "outputs": [
    {
     "name": "stdout",
     "output_type": "stream",
     "text": [
      "Number of instances in dataset = 19735\n",
      "\n",
      "Total number of columns = 29\n",
      "\n",
      "Column wise count of null values:-\n",
      "\n",
      "date           0\n",
      "Appliances     0\n",
      "lights         0\n",
      "T1             0\n",
      "RH_1           0\n",
      "T2             0\n",
      "RH_2           0\n",
      "T3             0\n",
      "RH_3           0\n",
      "T4             0\n",
      "RH_4           0\n",
      "T5             0\n",
      "RH_5           0\n",
      "T6             0\n",
      "RH_6           0\n",
      "T7             0\n",
      "RH_7           0\n",
      "T8             0\n",
      "RH_8           0\n",
      "T9             0\n",
      "RH_9           0\n",
      "T_out          0\n",
      "Press_mm_hg    0\n",
      "RH_out         0\n",
      "Windspeed      0\n",
      "Visibility     0\n",
      "Tdewpoint      0\n",
      "rv1            0\n",
      "rv2            0\n",
      "dtype: int64\n",
      "\n",
      "<class 'pandas.core.frame.DataFrame'>\n",
      "RangeIndex: 19735 entries, 0 to 19734\n",
      "Data columns (total 29 columns):\n",
      "date           19735 non-null object\n",
      "Appliances     19735 non-null int64\n",
      "lights         19735 non-null int64\n",
      "T1             19735 non-null float64\n",
      "RH_1           19735 non-null float64\n",
      "T2             19735 non-null float64\n",
      "RH_2           19735 non-null float64\n",
      "T3             19735 non-null float64\n",
      "RH_3           19735 non-null float64\n",
      "T4             19735 non-null float64\n",
      "RH_4           19735 non-null float64\n",
      "T5             19735 non-null float64\n",
      "RH_5           19735 non-null float64\n",
      "T6             19735 non-null float64\n",
      "RH_6           19735 non-null float64\n",
      "T7             19735 non-null float64\n",
      "RH_7           19735 non-null float64\n",
      "T8             19735 non-null float64\n",
      "RH_8           19735 non-null float64\n",
      "T9             19735 non-null float64\n",
      "RH_9           19735 non-null float64\n",
      "T_out          19735 non-null float64\n",
      "Press_mm_hg    19735 non-null float64\n",
      "RH_out         19735 non-null float64\n",
      "Windspeed      19735 non-null float64\n",
      "Visibility     19735 non-null float64\n",
      "Tdewpoint      19735 non-null float64\n",
      "rv1            19735 non-null float64\n",
      "rv2            19735 non-null float64\n",
      "dtypes: float64(26), int64(2), object(1)\n",
      "memory usage: 4.4+ MB\n",
      "None\n"
     ]
    }
   ],
   "source": [
    "print(\"Number of instances in dataset = {}\".format(df.shape[0]))\n",
    "print()\n",
    "print(\"Total number of columns = {}\".format(df.columns.shape[0]))\n",
    "print()\n",
    "print(\"Column wise count of null values:-\")\n",
    "print()\n",
    "print(df.isnull().sum())\n",
    "print()\n",
    "print(df.info())"
   ]
  },
  {
   "cell_type": "markdown",
   "metadata": {},
   "source": [
    "# Lets find the date range of the data"
   ]
  },
  {
   "cell_type": "code",
   "execution_count": 139,
   "metadata": {},
   "outputs": [
    {
     "name": "stdout",
     "output_type": "stream",
     "text": [
      "Data Captured for the period of  2016-01-11 17:00:00 and  2016-05-27 18:00:00\n"
     ]
    }
   ],
   "source": [
    "print(\"Data Captured for the period of \", min(df.date), 'and ', max(df.date))"
   ]
  },
  {
   "cell_type": "markdown",
   "metadata": {},
   "source": [
    "# Dataset Gas Price - Statistics and Details"
   ]
  },
  {
   "cell_type": "code",
   "execution_count": 140,
   "metadata": {},
   "outputs": [
    {
     "name": "stdout",
     "output_type": "stream",
     "text": [
      "(2519, 2)\n",
      "\n",
      "             value\n",
      "count  2519.000000\n",
      "mean     72.352326\n",
      "std      21.912538\n",
      "min      26.210000\n",
      "25%      52.411000\n",
      "50%      70.250000\n",
      "75%      93.550000\n",
      "max     113.930000\n",
      "\n",
      "<class 'pandas.core.frame.DataFrame'>\n",
      "RangeIndex: 2519 entries, 0 to 2518\n",
      "Data columns (total 2 columns):\n",
      "date      2519 non-null object\n",
      " value    2519 non-null float64\n",
      "dtypes: float64(1), object(1)\n",
      "memory usage: 39.4+ KB\n",
      "None\n"
     ]
    }
   ],
   "source": [
    "print(dfoil.shape)\n",
    "print()\n",
    "print(dfoil.describe())\n",
    "print()\n",
    "print(dfoil.info())"
   ]
  },
  {
   "cell_type": "code",
   "execution_count": 141,
   "metadata": {},
   "outputs": [],
   "source": [
    "# Lets parse the columns with respect to its dimensions \n",
    "\n",
    "# Temperature sensors columns\n",
    "temp_cols = [\"T1\", \"T2\", \"T3\", \"T4\", \"T5\", \"T6\", \"T7\", \"T8\", \"T9\"]\n",
    "\n",
    "# Humidity sensors columns\n",
    "hum_cols = [\"RH_1\", \"RH_2\", \"RH_3\", \"RH_4\", \"RH_5\", \"RH_6\", \"RH_7\", \"RH_8\", \"RH_9\"]\n",
    "\n",
    "# Weather data columns\n",
    "wth_cols = [\"T_out\", \"Tdewpoint\", \"RH_out\", \"Press_mm_hg\", \"Windspeed\", \"Visibility\"]\n",
    "\n",
    "# Target column\n",
    "tgt = [\"Appliances\"]"
   ]
  },
  {
   "cell_type": "code",
   "execution_count": 142,
   "metadata": {},
   "outputs": [
    {
     "name": "stdout",
     "output_type": "stream",
     "text": [
      "                 T1            T2            T3            T4            T5  \\\n",
      "count  19735.000000  19735.000000  19735.000000  19735.000000  19735.000000   \n",
      "mean      21.686571     20.341219     22.267611     20.855335     19.592106   \n",
      "std        1.606066      2.192974      2.006111      2.042884      1.844623   \n",
      "min       16.790000     16.100000     17.200000     15.100000     15.330000   \n",
      "25%       20.760000     18.790000     20.790000     19.530000     18.277500   \n",
      "50%       21.600000     20.000000     22.100000     20.666667     19.390000   \n",
      "75%       22.600000     21.500000     23.290000     22.100000     20.619643   \n",
      "max       26.260000     29.856667     29.236000     26.200000     25.795000   \n",
      "\n",
      "                 T6            T7            T8            T9  \n",
      "count  19735.000000  19735.000000  19735.000000  19735.000000  \n",
      "mean       7.910939     20.267106     22.029107     19.485828  \n",
      "std        6.090347      2.109993      1.956162      2.014712  \n",
      "min       -6.065000     15.390000     16.306667     14.890000  \n",
      "25%        3.626667     18.700000     20.790000     18.000000  \n",
      "50%        7.300000     20.033333     22.100000     19.390000  \n",
      "75%       11.256000     21.600000     23.390000     20.600000  \n",
      "max       28.290000     26.000000     27.230000     24.500000  \n"
     ]
    }
   ],
   "source": [
    "print(df[temp_cols].describe())"
   ]
  },
  {
   "cell_type": "code",
   "execution_count": 143,
   "metadata": {},
   "outputs": [
    {
     "name": "stdout",
     "output_type": "stream",
     "text": [
      "               RH_1          RH_2          RH_3          RH_4          RH_5  \\\n",
      "count  19735.000000  19735.000000  19735.000000  19735.000000  19735.000000   \n",
      "mean      40.259739     40.420420     39.242500     39.026904     50.949283   \n",
      "std        3.979299      4.069813      3.254576      4.341321      9.022034   \n",
      "min       27.023333     20.463333     28.766667     27.660000     29.815000   \n",
      "25%       37.333333     37.900000     36.900000     35.530000     45.400000   \n",
      "50%       39.656667     40.500000     38.530000     38.400000     49.090000   \n",
      "75%       43.066667     43.260000     41.760000     42.156667     53.663333   \n",
      "max       63.360000     56.026667     50.163333     51.090000     96.321667   \n",
      "\n",
      "               RH_6          RH_7          RH_8          RH_9  \n",
      "count  19735.000000  19735.000000  19735.000000  19735.000000  \n",
      "mean      54.609083     35.388200     42.936165     41.552401  \n",
      "std       31.149806      5.114208      5.224361      4.151497  \n",
      "min        1.000000     23.200000     29.600000     29.166667  \n",
      "25%       30.025000     31.500000     39.066667     38.500000  \n",
      "50%       55.290000     34.863333     42.375000     40.900000  \n",
      "75%       83.226667     39.000000     46.536000     44.338095  \n",
      "max       99.900000     51.400000     58.780000     53.326667  \n"
     ]
    }
   ],
   "source": [
    "print(df[hum_cols].describe())"
   ]
  },
  {
   "cell_type": "code",
   "execution_count": 144,
   "metadata": {},
   "outputs": [
    {
     "name": "stdout",
     "output_type": "stream",
     "text": [
      "              T_out     Tdewpoint        RH_out   Press_mm_hg     Windspeed  \\\n",
      "count  19735.000000  19735.000000  19735.000000  19735.000000  19735.000000   \n",
      "mean       7.411665      3.760707     79.750418    755.522602      4.039752   \n",
      "std        5.317409      4.194648     14.901088      7.399441      2.451221   \n",
      "min       -5.000000     -6.600000     24.000000    729.300000      0.000000   \n",
      "25%        3.666667      0.900000     70.333333    750.933333      2.000000   \n",
      "50%        6.916667      3.433333     83.666667    756.100000      3.666667   \n",
      "75%       10.408333      6.566667     91.666667    760.933333      5.500000   \n",
      "max       26.100000     15.500000    100.000000    772.300000     14.000000   \n",
      "\n",
      "         Visibility  \n",
      "count  19735.000000  \n",
      "mean      38.330834  \n",
      "std       11.794719  \n",
      "min        1.000000  \n",
      "25%       29.000000  \n",
      "50%       40.000000  \n",
      "75%       40.000000  \n",
      "max       66.000000  \n"
     ]
    }
   ],
   "source": [
    "print(df[wth_cols].describe())"
   ]
  },
  {
   "cell_type": "code",
   "execution_count": 145,
   "metadata": {},
   "outputs": [
    {
     "name": "stdout",
     "output_type": "stream",
     "text": [
      "count    19735.000000\n",
      "mean         3.801875\n",
      "std          7.935988\n",
      "min          0.000000\n",
      "25%          0.000000\n",
      "50%          0.000000\n",
      "75%          0.000000\n",
      "max         70.000000\n",
      "Name: lights, dtype: float64\n"
     ]
    }
   ],
   "source": [
    "print(df['lights'].describe())"
   ]
  },
  {
   "cell_type": "code",
   "execution_count": 146,
   "metadata": {},
   "outputs": [
    {
     "name": "stdout",
     "output_type": "stream",
     "text": [
      "         Appliances\n",
      "count  19735.000000\n",
      "mean      97.694958\n",
      "std      102.524891\n",
      "min       10.000000\n",
      "25%       50.000000\n",
      "50%       60.000000\n",
      "75%      100.000000\n",
      "max     1080.000000\n"
     ]
    }
   ],
   "source": [
    "print(df[tgt].describe())"
   ]
  },
  {
   "cell_type": "markdown",
   "metadata": {},
   "source": [
    "# Merge df and dfoil"
   ]
  },
  {
   "cell_type": "code",
   "execution_count": 160,
   "metadata": {},
   "outputs": [
    {
     "data": {
      "text/plain": [
       "0   2016-01-11\n",
       "1   2016-01-11\n",
       "Name: dateupdate, dtype: datetime64[ns]"
      ]
     },
     "execution_count": 160,
     "metadata": {},
     "output_type": "execute_result"
    }
   ],
   "source": [
    "df['dateupdate'] = pd.to_datetime(df['date']).dt.normalize()\n",
    "df['dateupdate'].head(2)\n",
    "#df.astype({'dateupdate': 'int32'}).dtypes"
   ]
  },
  {
   "cell_type": "code",
   "execution_count": null,
   "metadata": {},
   "outputs": [],
   "source": [
    "dfmerge=pd.merge(left = df, right = dfoil, how='left', left_on='dateupdate', right_on='date')"
   ]
  },
  {
   "cell_type": "markdown",
   "metadata": {},
   "source": [
    "# Merged Dataset details"
   ]
  },
  {
   "cell_type": "code",
   "execution_count": 149,
   "metadata": {},
   "outputs": [
    {
     "name": "stdout",
     "output_type": "stream",
     "text": [
      "(19735, 30)\n",
      "\n",
      "         Appliances        lights            T1          RH_1            T2  \\\n",
      "count  19735.000000  19735.000000  19735.000000  19735.000000  19735.000000   \n",
      "mean      97.694958      3.801875     21.686571     40.259739     20.341219   \n",
      "std      102.524891      7.935988      1.606066      3.979299      2.192974   \n",
      "min       10.000000      0.000000     16.790000     27.023333     16.100000   \n",
      "25%       50.000000      0.000000     20.760000     37.333333     18.790000   \n",
      "50%       60.000000      0.000000     21.600000     39.656667     20.000000   \n",
      "75%      100.000000      0.000000     22.600000     43.066667     21.500000   \n",
      "max     1080.000000     70.000000     26.260000     63.360000     29.856667   \n",
      "\n",
      "               RH_2            T3          RH_3            T4          RH_4  \\\n",
      "count  19735.000000  19735.000000  19735.000000  19735.000000  19735.000000   \n",
      "mean      40.420420     22.267611     39.242500     20.855335     39.026904   \n",
      "std        4.069813      2.006111      3.254576      2.042884      4.341321   \n",
      "min       20.463333     17.200000     28.766667     15.100000     27.660000   \n",
      "25%       37.900000     20.790000     36.900000     19.530000     35.530000   \n",
      "50%       40.500000     22.100000     38.530000     20.666667     38.400000   \n",
      "75%       43.260000     23.290000     41.760000     22.100000     42.156667   \n",
      "max       56.026667     29.236000     50.163333     26.200000     51.090000   \n",
      "\n",
      "        ...            RH_9         T_out   Press_mm_hg        RH_out  \\\n",
      "count   ...    19735.000000  19735.000000  19735.000000  19735.000000   \n",
      "mean    ...       41.552401      7.411665    755.522602     79.750418   \n",
      "std     ...        4.151497      5.317409      7.399441     14.901088   \n",
      "min     ...       29.166667     -5.000000    729.300000     24.000000   \n",
      "25%     ...       38.500000      3.666667    750.933333     70.333333   \n",
      "50%     ...       40.900000      6.916667    756.100000     83.666667   \n",
      "75%     ...       44.338095     10.408333    760.933333     91.666667   \n",
      "max     ...       53.326667     26.100000    772.300000    100.000000   \n",
      "\n",
      "          Windspeed    Visibility     Tdewpoint           rv1           rv2  \\\n",
      "count  19735.000000  19735.000000  19735.000000  19735.000000  19735.000000   \n",
      "mean       4.039752     38.330834      3.760707     24.988033     24.988033   \n",
      "std        2.451221     11.794719      4.194648     14.496634     14.496634   \n",
      "min        0.000000      1.000000     -6.600000      0.005322      0.005322   \n",
      "25%        2.000000     29.000000      0.900000     12.497889     12.497889   \n",
      "50%        3.666667     40.000000      3.433333     24.897653     24.897653   \n",
      "75%        5.500000     40.000000      6.566667     37.583769     37.583769   \n",
      "max       14.000000     66.000000     15.500000     49.996530     49.996530   \n",
      "\n",
      "        value  \n",
      "count     0.0  \n",
      "mean      NaN  \n",
      "std       NaN  \n",
      "min       NaN  \n",
      "25%       NaN  \n",
      "50%       NaN  \n",
      "75%       NaN  \n",
      "max       NaN  \n",
      "\n",
      "[8 rows x 29 columns]\n",
      "\n",
      "<class 'pandas.core.frame.DataFrame'>\n",
      "Int64Index: 19735 entries, 0 to 19734\n",
      "Data columns (total 30 columns):\n",
      "date           19735 non-null object\n",
      "Appliances     19735 non-null int64\n",
      "lights         19735 non-null int64\n",
      "T1             19735 non-null float64\n",
      "RH_1           19735 non-null float64\n",
      "T2             19735 non-null float64\n",
      "RH_2           19735 non-null float64\n",
      "T3             19735 non-null float64\n",
      "RH_3           19735 non-null float64\n",
      "T4             19735 non-null float64\n",
      "RH_4           19735 non-null float64\n",
      "T5             19735 non-null float64\n",
      "RH_5           19735 non-null float64\n",
      "T6             19735 non-null float64\n",
      "RH_6           19735 non-null float64\n",
      "T7             19735 non-null float64\n",
      "RH_7           19735 non-null float64\n",
      "T8             19735 non-null float64\n",
      "RH_8           19735 non-null float64\n",
      "T9             19735 non-null float64\n",
      "RH_9           19735 non-null float64\n",
      "T_out          19735 non-null float64\n",
      "Press_mm_hg    19735 non-null float64\n",
      "RH_out         19735 non-null float64\n",
      "Windspeed      19735 non-null float64\n",
      "Visibility     19735 non-null float64\n",
      "Tdewpoint      19735 non-null float64\n",
      "rv1            19735 non-null float64\n",
      "rv2            19735 non-null float64\n",
      " value         0 non-null float64\n",
      "dtypes: float64(27), int64(2), object(1)\n",
      "memory usage: 4.7+ MB\n",
      "None\n"
     ]
    }
   ],
   "source": [
    "print(dfmerge.shape)\n",
    "print()\n",
    "print(dfmerge.describe())\n",
    "print()\n",
    "print(dfmerge.info())"
   ]
  },
  {
   "cell_type": "code",
   "execution_count": null,
   "metadata": {},
   "outputs": [],
   "source": []
  }
 ],
 "metadata": {
  "kernelspec": {
   "display_name": "Python 3",
   "language": "python",
   "name": "python3"
  },
  "language_info": {
   "codemirror_mode": {
    "name": "ipython",
    "version": 3
   },
   "file_extension": ".py",
   "mimetype": "text/x-python",
   "name": "python",
   "nbconvert_exporter": "python",
   "pygments_lexer": "ipython3",
   "version": "3.6.3"
  }
 },
 "nbformat": 4,
 "nbformat_minor": 2
}
